{
    "cells": [
        {
            "cell_type": "code",
            "execution_count": 1,
            "metadata": {},
            "outputs": [],
            "source": [
                "import pathlib\n",
                "\n",
                "# geopandas map of the USA\n",
                "import geopandas\n",
                "import matplotlib.pyplot as plt\n",
                "import numpy as np\n",
                "\n",
                "# plot on plotly map\n",
                "import plotly.express as px"
            ]
        },
        {
            "cell_type": "code",
            "execution_count": 2,
            "metadata": {},
            "outputs": [
                {
                    "name": "stderr",
                    "output_type": "stream",
                    "text": [
                        "/home/lippincm/miniforge3/envs/mapping_env/lib/python3.12/site-packages/pyogrio/geopandas.py:265: UserWarning: More than one layer found in '110m_cultural.zip': 'ne_110m_admin_0_countries' (default), 'ne_110m_admin_0_countries_lakes', 'ne_110m_populated_places', 'ne_110m_admin_1_states_provinces_lakes', 'ne_110m_admin_0_scale_rank', 'ne_110m_admin_1_states_provinces_lines', 'ne_110m_admin_0_boundary_lines_land', 'ne_110m_populated_places_simple', 'ne_110m_admin_0_pacific_groupings', 'ne_110m_admin_0_map_units', 'ne_110m_admin_1_states_provinces', 'ne_110m_admin_0_sovereignty', 'ne_110m_admin_1_states_provinces_scale_rank', 'ne_110m_admin_0_tiny_countries'. Specify layer parameter to avoid this warning.\n",
                        "  result = read_func(\n"
                    ]
                },
                {
                    "data": {
                        "text/html": [
                            "<div>\n",
                            "<style scoped>\n",
                            "    .dataframe tbody tr th:only-of-type {\n",
                            "        vertical-align: middle;\n",
                            "    }\n",
                            "\n",
                            "    .dataframe tbody tr th {\n",
                            "        vertical-align: top;\n",
                            "    }\n",
                            "\n",
                            "    .dataframe thead th {\n",
                            "        text-align: right;\n",
                            "    }\n",
                            "</style>\n",
                            "<table border=\"1\" class=\"dataframe\">\n",
                            "  <thead>\n",
                            "    <tr style=\"text-align: right;\">\n",
                            "      <th></th>\n",
                            "      <th>Name</th>\n",
                            "      <th>Organization</th>\n",
                            "      <th>Projects</th>\n",
                            "      <th>First collaborated</th>\n",
                            "      <th>Country</th>\n",
                            "      <th>State</th>\n",
                            "      <th>City</th>\n",
                            "      <th>location</th>\n",
                            "      <th>latitude</th>\n",
                            "      <th>longitude</th>\n",
                            "      <th>geometry</th>\n",
                            "      <th>latitude_jittered</th>\n",
                            "      <th>longitude_jittered</th>\n",
                            "    </tr>\n",
                            "  </thead>\n",
                            "  <tbody>\n",
                            "    <tr>\n",
                            "      <th>0</th>\n",
                            "      <td>Jim Walker</td>\n",
                            "      <td>Massachusetts General Hospital</td>\n",
                            "      <td>NF1 CP</td>\n",
                            "      <td>2022</td>\n",
                            "      <td>United States</td>\n",
                            "      <td>Massachusetts</td>\n",
                            "      <td>Boston</td>\n",
                            "      <td>Boston, Massachusetts, United States</td>\n",
                            "      <td>42.355433</td>\n",
                            "      <td>-71.060511</td>\n",
                            "      <td>POINT (-71.06051 42.35543)</td>\n",
                            "      <td>42.355531</td>\n",
                            "      <td>-71.059846</td>\n",
                            "    </tr>\n",
                            "    <tr>\n",
                            "      <th>1</th>\n",
                            "      <td>Michelle Mattson-Hoss</td>\n",
                            "      <td>Infixion Bioscience</td>\n",
                            "      <td>NF1 CP</td>\n",
                            "      <td>2022</td>\n",
                            "      <td>United States</td>\n",
                            "      <td>California</td>\n",
                            "      <td>San Diego</td>\n",
                            "      <td>San Diego, California, United States</td>\n",
                            "      <td>32.717420</td>\n",
                            "      <td>-117.162772</td>\n",
                            "      <td>POINT (-117.16277 32.71742)</td>\n",
                            "      <td>32.717851</td>\n",
                            "      <td>-117.162216</td>\n",
                            "    </tr>\n",
                            "    <tr>\n",
                            "      <th>2</th>\n",
                            "      <td>Jaime Cheah</td>\n",
                            "      <td>Broad Institute</td>\n",
                            "      <td>ALSF/NF1 CP</td>\n",
                            "      <td>2023</td>\n",
                            "      <td>United States</td>\n",
                            "      <td>Massachusetts</td>\n",
                            "      <td>Boston</td>\n",
                            "      <td>Boston, Massachusetts, United States</td>\n",
                            "      <td>42.355433</td>\n",
                            "      <td>-71.060511</td>\n",
                            "      <td>POINT (-71.06051 42.35543)</td>\n",
                            "      <td>42.355639</td>\n",
                            "      <td>-71.059771</td>\n",
                            "    </tr>\n",
                            "    <tr>\n",
                            "      <th>3</th>\n",
                            "      <td>Jackie Taroni</td>\n",
                            "      <td>Alex's Lemonade Stand</td>\n",
                            "      <td>ALSF</td>\n",
                            "      <td>2023</td>\n",
                            "      <td>United States</td>\n",
                            "      <td>Philadelphia</td>\n",
                            "      <td>Pennsylvania</td>\n",
                            "      <td>Pennsylvania, Philadelphia, United States</td>\n",
                            "      <td>39.950394</td>\n",
                            "      <td>-75.194671</td>\n",
                            "      <td>POINT (-75.19467 39.95039)</td>\n",
                            "      <td>39.950484</td>\n",
                            "      <td>-75.193714</td>\n",
                            "    </tr>\n",
                            "    <tr>\n",
                            "      <th>4</th>\n",
                            "      <td>Tim McKinsey</td>\n",
                            "      <td>University of Colorado</td>\n",
                            "      <td>CFReT</td>\n",
                            "      <td>2022</td>\n",
                            "      <td>United States</td>\n",
                            "      <td>Colorado</td>\n",
                            "      <td>Denver</td>\n",
                            "      <td>Denver, Colorado, United States</td>\n",
                            "      <td>39.739236</td>\n",
                            "      <td>-104.984862</td>\n",
                            "      <td>POINT (-104.98486 39.73924)</td>\n",
                            "      <td>39.739084</td>\n",
                            "      <td>-104.984264</td>\n",
                            "    </tr>\n",
                            "  </tbody>\n",
                            "</table>\n",
                            "</div>"
                        ],
                        "text/plain": [
                            "                    Name                    Organization     Projects  \\\n",
                            "0             Jim Walker  Massachusetts General Hospital       NF1 CP   \n",
                            "1  Michelle Mattson-Hoss             Infixion Bioscience       NF1 CP   \n",
                            "2            Jaime Cheah                 Broad Institute  ALSF/NF1 CP   \n",
                            "3          Jackie Taroni           Alex's Lemonade Stand         ALSF   \n",
                            "4           Tim McKinsey          University of Colorado        CFReT   \n",
                            "\n",
                            "   First collaborated        Country          State          City  \\\n",
                            "0                2022  United States  Massachusetts        Boston   \n",
                            "1                2022  United States     California     San Diego   \n",
                            "2                2023  United States  Massachusetts        Boston   \n",
                            "3                2023  United States   Philadelphia  Pennsylvania   \n",
                            "4                2022  United States       Colorado        Denver   \n",
                            "\n",
                            "                                    location   latitude   longitude  \\\n",
                            "0       Boston, Massachusetts, United States  42.355433  -71.060511   \n",
                            "1       San Diego, California, United States  32.717420 -117.162772   \n",
                            "2       Boston, Massachusetts, United States  42.355433  -71.060511   \n",
                            "3  Pennsylvania, Philadelphia, United States  39.950394  -75.194671   \n",
                            "4            Denver, Colorado, United States  39.739236 -104.984862   \n",
                            "\n",
                            "                      geometry  latitude_jittered  longitude_jittered  \n",
                            "0   POINT (-71.06051 42.35543)          42.355531          -71.059846  \n",
                            "1  POINT (-117.16277 32.71742)          32.717851         -117.162216  \n",
                            "2   POINT (-71.06051 42.35543)          42.355639          -71.059771  \n",
                            "3   POINT (-75.19467 39.95039)          39.950484          -75.193714  \n",
                            "4  POINT (-104.98486 39.73924)          39.739084         -104.984264  "
                        ]
                    },
                    "execution_count": 2,
                    "metadata": {},
                    "output_type": "execute_result"
                }
            ],
            "source": [
                "# load in the map\n",
                "world = geopandas.read_file(\"../data/110m_cultural.zip\")\n",
                "# read in the data from a shapefile\n",
                "gdf = geopandas.read_file(\"../data/collaborator_locations.shp\")\n",
                "gdf.rename(\n",
                "    columns={\"Organizati\": \"Organization\", \"First coll\": \"First collaborated\"},\n",
                "    inplace=True,\n",
                ")\n",
                "# Add jitter to latitude and longitude\n",
                "np.random.seed(0)\n",
                "gdf[\"latitude_jittered\"] = gdf[\"latitude\"] + np.random.uniform(\n",
                "    -0.001, 0.001, size=len(gdf)\n",
                ")\n",
                "gdf[\"longitude_jittered\"] = gdf[\"longitude\"] + np.random.uniform(\n",
                "    -0.001, 0.001, size=len(gdf)\n",
                ")\n",
                "\n",
                "gdf.head()"
            ]
        },
        {
            "cell_type": "code",
            "execution_count": 3,
            "metadata": {},
            "outputs": [
                {
                    "data": {
                        "application/vnd.plotly.v1+json": {
                            "config": {
                                "plotlyServerURL": "https://plot.ly"
                            },
                            "data": [
                                {
                                    "customdata": [
                                        [
                                            "Massachusetts General Hospital"
                                        ],
                                        [
                                            "Infixion Bioscience"
                                        ]
                                    ],
                                    "hovertemplate": "<b>%{hovertext}</b><br><br>Projects=NF1 CP<br>latitude_jittered=%{lat}<br>longitude_jittered=%{lon}<br>Organization=%{customdata[0]}<extra></extra>",
                                    "hovertext": [
                                        "Jim Walker",
                                        "Michelle Mattson-Hoss"
                                    ],
                                    "lat": {
                                        "bdata": "JNtqCoItRUAxiRuH4ltAQA==",
                                        "dtype": "f8"
                                    },
                                    "legendgroup": "NF1 CP",
                                    "lon": {
                                        "bdata": "L9VPg9TDUcAVGue9YUpdwA==",
                                        "dtype": "f8"
                                    },
                                    "marker": {
                                        "color": "#636efa",
                                        "opacity": 0.9,
                                        "size": 15
                                    },
                                    "mode": "markers",
                                    "name": "NF1 CP",
                                    "showlegend": true,
                                    "subplot": "map",
                                    "type": "scattermap"
                                },
                                {
                                    "customdata": [
                                        [
                                            "Broad Institute"
                                        ]
                                    ],
                                    "hovertemplate": "<b>%{hovertext}</b><br><br>Projects=ALSF/NF1 CP<br>latitude_jittered=%{lat}<br>longitude_jittered=%{lon}<br>Organization=%{customdata[0]}<extra></extra>",
                                    "hovertext": [
                                        "Jaime Cheah"
                                    ],
                                    "lat": {
                                        "bdata": "4cqLk4UtRUA=",
                                        "dtype": "f8"
                                    },
                                    "legendgroup": "ALSF/NF1 CP",
                                    "lon": {
                                        "bdata": "YnmkSdPDUcA=",
                                        "dtype": "f8"
                                    },
                                    "marker": {
                                        "color": "#EF553B",
                                        "opacity": 0.9,
                                        "size": 15
                                    },
                                    "mode": "markers",
                                    "name": "ALSF/NF1 CP",
                                    "showlegend": true,
                                    "subplot": "map",
                                    "type": "scattermap"
                                },
                                {
                                    "customdata": [
                                        [
                                            "Alex's Lemonade Stand"
                                        ],
                                        [
                                            "St. Jude"
                                        ]
                                    ],
                                    "hovertemplate": "<b>%{hovertext}</b><br><br>Projects=ALSF<br>latitude_jittered=%{lat}<br>longitude_jittered=%{lon}<br>Organization=%{customdata[0]}<extra></extra>",
                                    "hovertext": [
                                        "Jackie Taroni",
                                        "Adam Durbin"
                                    ],
                                    "lat": {
                                        "bdata": "/VOAd6n5Q0D7rUetNZFBQA==",
                                        "dtype": "f8"
                                    },
                                    "legendgroup": "ALSF",
                                    "lon": {
                                        "bdata": "xdayz2XMUsBlJWddCIRWwA==",
                                        "dtype": "f8"
                                    },
                                    "marker": {
                                        "color": "#00cc96",
                                        "opacity": 0.9,
                                        "size": 15
                                    },
                                    "mode": "markers",
                                    "name": "ALSF",
                                    "showlegend": true,
                                    "subplot": "map",
                                    "type": "scattermap"
                                },
                                {
                                    "customdata": [
                                        [
                                            "University of Colorado"
                                        ]
                                    ],
                                    "hovertemplate": "<b>%{hovertext}</b><br><br>Projects=CFReT<br>latitude_jittered=%{lat}<br>longitude_jittered=%{lon}<br>Organization=%{customdata[0]}<extra></extra>",
                                    "hovertext": [
                                        "Tim McKinsey"
                                    ],
                                    "lat": {
                                        "bdata": "yd2ES5reQ0A=",
                                        "dtype": "f8"
                                    },
                                    "legendgroup": "CFReT",
                                    "lon": {
                                        "bdata": "uyQaLf4+WsA=",
                                        "dtype": "f8"
                                    },
                                    "marker": {
                                        "color": "#ab63fa",
                                        "opacity": 0.9,
                                        "size": 15
                                    },
                                    "mode": "markers",
                                    "name": "CFReT",
                                    "showlegend": true,
                                    "subplot": "map",
                                    "type": "scattermap"
                                },
                                {
                                    "customdata": [
                                        [
                                            "Sanford Burnham Prebys"
                                        ]
                                    ],
                                    "hovertemplate": "<b>%{hovertext}</b><br><br>Projects=Cell Reprograming<br>latitude_jittered=%{lat}<br>longitude_jittered=%{lon}<br>Organization=%{customdata[0]}<extra></extra>",
                                    "hovertext": [
                                        "Alexandre Colas"
                                    ],
                                    "lat": {
                                        "bdata": "QPvNfR5kQEA=",
                                        "dtype": "f8"
                                    },
                                    "legendgroup": "Cell Reprograming",
                                    "lon": {
                                        "bdata": "KGvGtehKXcA=",
                                        "dtype": "f8"
                                    },
                                    "marker": {
                                        "color": "#FFA15A",
                                        "opacity": 0.9,
                                        "size": 15
                                    },
                                    "mode": "markers",
                                    "name": "Cell Reprograming",
                                    "showlegend": true,
                                    "subplot": "map",
                                    "type": "scattermap"
                                },
                                {
                                    "customdata": [
                                        [
                                            "Cold Spring Harbor"
                                        ]
                                    ],
                                    "hovertemplate": "<b>%{hovertext}</b><br><br>Projects=Nuclear Speckles<br>latitude_jittered=%{lat}<br>longitude_jittered=%{lon}<br>Organization=%{customdata[0]}<extra></extra>",
                                    "hovertext": [
                                        "Kate Alexander"
                                    ],
                                    "lat": {
                                        "bdata": "q4MgpTFuREA=",
                                        "dtype": "f8"
                                    },
                                    "legendgroup": "Nuclear Speckles",
                                    "lon": {
                                        "bdata": "nlr63AhdUsA=",
                                        "dtype": "f8"
                                    },
                                    "marker": {
                                        "color": "#19d3f3",
                                        "opacity": 0.9,
                                        "size": 15
                                    },
                                    "mode": "markers",
                                    "name": "Nuclear Speckles",
                                    "showlegend": true,
                                    "subplot": "map",
                                    "type": "scattermap"
                                },
                                {
                                    "customdata": [
                                        [
                                            "UCLA"
                                        ],
                                        [
                                            "PNNL"
                                        ]
                                    ],
                                    "hovertemplate": "<b>%{hovertext}</b><br><br>Projects=NF1 Organoid<br>latitude_jittered=%{lat}<br>longitude_jittered=%{lon}<br>Organization=%{customdata[0]}<extra></extra>",
                                    "hovertext": [
                                        "Alice Soragni",
                                        "Sara Gosline"
                                    ],
                                    "lat": {
                                        "bdata": "azDiuv0GQUDVBUK7Qs1HQA==",
                                        "dtype": "f8"
                                    },
                                    "legendgroup": "NF1 Organoid",
                                    "lon": {
                                        "bdata": "NYqp5ISPXcCA5SJsK5VewA==",
                                        "dtype": "f8"
                                    },
                                    "marker": {
                                        "color": "#FF6692",
                                        "opacity": 0.9,
                                        "size": 15
                                    },
                                    "mode": "markers",
                                    "name": "NF1 Organoid",
                                    "showlegend": true,
                                    "subplot": "map",
                                    "type": "scattermap"
                                },
                                {
                                    "customdata": [
                                        [
                                            "Saguaro"
                                        ],
                                        [
                                            "University of Montreal"
                                        ]
                                    ],
                                    "hovertemplate": "<b>%{hovertext}</b><br><br>Projects=Cell Death<br>latitude_jittered=%{lat}<br>longitude_jittered=%{lon}<br>Organization=%{customdata[0]}<extra></extra>",
                                    "hovertext": [
                                        "Felix Lavoie-Perusse",
                                        "Simon Mathien"
                                    ],
                                    "lat": {
                                        "bdata": "mnU9ZnvARkBfsq4sasBGQA==",
                                        "dtype": "f8"
                                    },
                                    "legendgroup": "Cell Death",
                                    "lon": {
                                        "bdata": "r2iHI2lkUsAuuWf+dmRSwA==",
                                        "dtype": "f8"
                                    },
                                    "marker": {
                                        "color": "#B6E880",
                                        "opacity": 0.9,
                                        "size": 15
                                    },
                                    "mode": "markers",
                                    "name": "Cell Death",
                                    "showlegend": true,
                                    "subplot": "map",
                                    "type": "scattermap"
                                },
                                {
                                    "customdata": [
                                        [
                                            "Universidad de Aysen"
                                        ],
                                        [
                                            "University of Tokyo"
                                        ],
                                        [
                                            "Nomic Bio"
                                        ],
                                        [
                                            "Assay.Works"
                                        ]
                                    ],
                                    "hovertemplate": "<b>%{hovertext}</b><br><br>Projects=Interstellar/Cell Death<br>latitude_jittered=%{lat}<br>longitude_jittered=%{lon}<br>Organization=%{customdata[0]}<extra></extra>",
                                    "hovertext": [
                                        "Carla Basualto",
                                        "Masafumi Tsuboi",
                                        "Milad Dagher",
                                        "Ralf Schwandner"
                                    ],
                                    "lat": {
                                        "bdata": "wa4rngbJRsB+RB0+T9dBQDbcFStMwEZArC9gAmWCSEA=",
                                        "dtype": "f8"
                                    },
                                    "legendgroup": "Interstellar/Cell Death",
                                    "lon": {
                                        "bdata": "C6ugStkEUsAo+H7/hHhhQPVFPrluZFLARAXbTt4xKEA=",
                                        "dtype": "f8"
                                    },
                                    "marker": {
                                        "color": "#FF97FF",
                                        "opacity": 0.9,
                                        "size": 15
                                    },
                                    "mode": "markers",
                                    "name": "Interstellar/Cell Death",
                                    "showlegend": true,
                                    "subplot": "map",
                                    "type": "scattermap"
                                },
                                {
                                    "customdata": [
                                        [
                                            "University of Colorado"
                                        ]
                                    ],
                                    "hovertemplate": "<b>%{hovertext}</b><br><br>Projects=Gene process dependencies<br>latitude_jittered=%{lat}<br>longitude_jittered=%{lon}<br>Organization=%{customdata[0]}<extra></extra>",
                                    "hovertext": [
                                        "Adam Green"
                                    ],
                                    "lat": {
                                        "bdata": "1Lb62n/eQ0A=",
                                        "dtype": "f8"
                                    },
                                    "legendgroup": "Gene process dependencies",
                                    "lon": {
                                        "bdata": "bXuPvAU/WsA=",
                                        "dtype": "f8"
                                    },
                                    "marker": {
                                        "color": "#FECB52",
                                        "opacity": 0.9,
                                        "size": 15
                                    },
                                    "mode": "markers",
                                    "name": "Gene process dependencies",
                                    "showlegend": true,
                                    "subplot": "map",
                                    "type": "scattermap"
                                }
                            ],
                            "layout": {
                                "height": 600,
                                "legend": {
                                    "title": {
                                        "text": "Projects"
                                    },
                                    "tracegroupgap": 0
                                },
                                "map": {
                                    "center": {
                                        "lat": 35.46660194502891,
                                        "lon": -70.977940757539
                                    },
                                    "domain": {
                                        "x": [
                                            0,
                                            1
                                        ],
                                        "y": [
                                            0,
                                            1
                                        ]
                                    },
                                    "zoom": 1
                                },
                                "mapbox": {
                                    "center": {
                                        "lat": 35.46660194502891,
                                        "lon": -70.977940757539
                                    },
                                    "style": "carto-positron",
                                    "zoom": 1
                                },
                                "margin": {
                                    "b": 0,
                                    "l": 0,
                                    "r": 0,
                                    "t": 0
                                },
                                "template": {
                                    "data": {
                                        "bar": [
                                            {
                                                "error_x": {
                                                    "color": "#2a3f5f"
                                                },
                                                "error_y": {
                                                    "color": "#2a3f5f"
                                                },
                                                "marker": {
                                                    "line": {
                                                        "color": "#E5ECF6",
                                                        "width": 0.5
                                                    },
                                                    "pattern": {
                                                        "fillmode": "overlay",
                                                        "size": 10,
                                                        "solidity": 0.2
                                                    }
                                                },
                                                "type": "bar"
                                            }
                                        ],
                                        "barpolar": [
                                            {
                                                "marker": {
                                                    "line": {
                                                        "color": "#E5ECF6",
                                                        "width": 0.5
                                                    },
                                                    "pattern": {
                                                        "fillmode": "overlay",
                                                        "size": 10,
                                                        "solidity": 0.2
                                                    }
                                                },
                                                "type": "barpolar"
                                            }
                                        ],
                                        "carpet": [
                                            {
                                                "aaxis": {
                                                    "endlinecolor": "#2a3f5f",
                                                    "gridcolor": "white",
                                                    "linecolor": "white",
                                                    "minorgridcolor": "white",
                                                    "startlinecolor": "#2a3f5f"
                                                },
                                                "baxis": {
                                                    "endlinecolor": "#2a3f5f",
                                                    "gridcolor": "white",
                                                    "linecolor": "white",
                                                    "minorgridcolor": "white",
                                                    "startlinecolor": "#2a3f5f"
                                                },
                                                "type": "carpet"
                                            }
                                        ],
                                        "choropleth": [
                                            {
                                                "colorbar": {
                                                    "outlinewidth": 0,
                                                    "ticks": ""
                                                },
                                                "type": "choropleth"
                                            }
                                        ],
                                        "contour": [
                                            {
                                                "colorbar": {
                                                    "outlinewidth": 0,
                                                    "ticks": ""
                                                },
                                                "colorscale": [
                                                    [
                                                        0,
                                                        "#0d0887"
                                                    ],
                                                    [
                                                        0.1111111111111111,
                                                        "#46039f"
                                                    ],
                                                    [
                                                        0.2222222222222222,
                                                        "#7201a8"
                                                    ],
                                                    [
                                                        0.3333333333333333,
                                                        "#9c179e"
                                                    ],
                                                    [
                                                        0.4444444444444444,
                                                        "#bd3786"
                                                    ],
                                                    [
                                                        0.5555555555555556,
                                                        "#d8576b"
                                                    ],
                                                    [
                                                        0.6666666666666666,
                                                        "#ed7953"
                                                    ],
                                                    [
                                                        0.7777777777777778,
                                                        "#fb9f3a"
                                                    ],
                                                    [
                                                        0.8888888888888888,
                                                        "#fdca26"
                                                    ],
                                                    [
                                                        1,
                                                        "#f0f921"
                                                    ]
                                                ],
                                                "type": "contour"
                                            }
                                        ],
                                        "contourcarpet": [
                                            {
                                                "colorbar": {
                                                    "outlinewidth": 0,
                                                    "ticks": ""
                                                },
                                                "type": "contourcarpet"
                                            }
                                        ],
                                        "heatmap": [
                                            {
                                                "colorbar": {
                                                    "outlinewidth": 0,
                                                    "ticks": ""
                                                },
                                                "colorscale": [
                                                    [
                                                        0,
                                                        "#0d0887"
                                                    ],
                                                    [
                                                        0.1111111111111111,
                                                        "#46039f"
                                                    ],
                                                    [
                                                        0.2222222222222222,
                                                        "#7201a8"
                                                    ],
                                                    [
                                                        0.3333333333333333,
                                                        "#9c179e"
                                                    ],
                                                    [
                                                        0.4444444444444444,
                                                        "#bd3786"
                                                    ],
                                                    [
                                                        0.5555555555555556,
                                                        "#d8576b"
                                                    ],
                                                    [
                                                        0.6666666666666666,
                                                        "#ed7953"
                                                    ],
                                                    [
                                                        0.7777777777777778,
                                                        "#fb9f3a"
                                                    ],
                                                    [
                                                        0.8888888888888888,
                                                        "#fdca26"
                                                    ],
                                                    [
                                                        1,
                                                        "#f0f921"
                                                    ]
                                                ],
                                                "type": "heatmap"
                                            }
                                        ],
                                        "histogram": [
                                            {
                                                "marker": {
                                                    "pattern": {
                                                        "fillmode": "overlay",
                                                        "size": 10,
                                                        "solidity": 0.2
                                                    }
                                                },
                                                "type": "histogram"
                                            }
                                        ],
                                        "histogram2d": [
                                            {
                                                "colorbar": {
                                                    "outlinewidth": 0,
                                                    "ticks": ""
                                                },
                                                "colorscale": [
                                                    [
                                                        0,
                                                        "#0d0887"
                                                    ],
                                                    [
                                                        0.1111111111111111,
                                                        "#46039f"
                                                    ],
                                                    [
                                                        0.2222222222222222,
                                                        "#7201a8"
                                                    ],
                                                    [
                                                        0.3333333333333333,
                                                        "#9c179e"
                                                    ],
                                                    [
                                                        0.4444444444444444,
                                                        "#bd3786"
                                                    ],
                                                    [
                                                        0.5555555555555556,
                                                        "#d8576b"
                                                    ],
                                                    [
                                                        0.6666666666666666,
                                                        "#ed7953"
                                                    ],
                                                    [
                                                        0.7777777777777778,
                                                        "#fb9f3a"
                                                    ],
                                                    [
                                                        0.8888888888888888,
                                                        "#fdca26"
                                                    ],
                                                    [
                                                        1,
                                                        "#f0f921"
                                                    ]
                                                ],
                                                "type": "histogram2d"
                                            }
                                        ],
                                        "histogram2dcontour": [
                                            {
                                                "colorbar": {
                                                    "outlinewidth": 0,
                                                    "ticks": ""
                                                },
                                                "colorscale": [
                                                    [
                                                        0,
                                                        "#0d0887"
                                                    ],
                                                    [
                                                        0.1111111111111111,
                                                        "#46039f"
                                                    ],
                                                    [
                                                        0.2222222222222222,
                                                        "#7201a8"
                                                    ],
                                                    [
                                                        0.3333333333333333,
                                                        "#9c179e"
                                                    ],
                                                    [
                                                        0.4444444444444444,
                                                        "#bd3786"
                                                    ],
                                                    [
                                                        0.5555555555555556,
                                                        "#d8576b"
                                                    ],
                                                    [
                                                        0.6666666666666666,
                                                        "#ed7953"
                                                    ],
                                                    [
                                                        0.7777777777777778,
                                                        "#fb9f3a"
                                                    ],
                                                    [
                                                        0.8888888888888888,
                                                        "#fdca26"
                                                    ],
                                                    [
                                                        1,
                                                        "#f0f921"
                                                    ]
                                                ],
                                                "type": "histogram2dcontour"
                                            }
                                        ],
                                        "mesh3d": [
                                            {
                                                "colorbar": {
                                                    "outlinewidth": 0,
                                                    "ticks": ""
                                                },
                                                "type": "mesh3d"
                                            }
                                        ],
                                        "parcoords": [
                                            {
                                                "line": {
                                                    "colorbar": {
                                                        "outlinewidth": 0,
                                                        "ticks": ""
                                                    }
                                                },
                                                "type": "parcoords"
                                            }
                                        ],
                                        "pie": [
                                            {
                                                "automargin": true,
                                                "type": "pie"
                                            }
                                        ],
                                        "scatter": [
                                            {
                                                "fillpattern": {
                                                    "fillmode": "overlay",
                                                    "size": 10,
                                                    "solidity": 0.2
                                                },
                                                "type": "scatter"
                                            }
                                        ],
                                        "scatter3d": [
                                            {
                                                "line": {
                                                    "colorbar": {
                                                        "outlinewidth": 0,
                                                        "ticks": ""
                                                    }
                                                },
                                                "marker": {
                                                    "colorbar": {
                                                        "outlinewidth": 0,
                                                        "ticks": ""
                                                    }
                                                },
                                                "type": "scatter3d"
                                            }
                                        ],
                                        "scattercarpet": [
                                            {
                                                "marker": {
                                                    "colorbar": {
                                                        "outlinewidth": 0,
                                                        "ticks": ""
                                                    }
                                                },
                                                "type": "scattercarpet"
                                            }
                                        ],
                                        "scattergeo": [
                                            {
                                                "marker": {
                                                    "colorbar": {
                                                        "outlinewidth": 0,
                                                        "ticks": ""
                                                    }
                                                },
                                                "type": "scattergeo"
                                            }
                                        ],
                                        "scattergl": [
                                            {
                                                "marker": {
                                                    "colorbar": {
                                                        "outlinewidth": 0,
                                                        "ticks": ""
                                                    }
                                                },
                                                "type": "scattergl"
                                            }
                                        ],
                                        "scattermap": [
                                            {
                                                "marker": {
                                                    "colorbar": {
                                                        "outlinewidth": 0,
                                                        "ticks": ""
                                                    }
                                                },
                                                "type": "scattermap"
                                            }
                                        ],
                                        "scattermapbox": [
                                            {
                                                "marker": {
                                                    "colorbar": {
                                                        "outlinewidth": 0,
                                                        "ticks": ""
                                                    }
                                                },
                                                "type": "scattermapbox"
                                            }
                                        ],
                                        "scatterpolar": [
                                            {
                                                "marker": {
                                                    "colorbar": {
                                                        "outlinewidth": 0,
                                                        "ticks": ""
                                                    }
                                                },
                                                "type": "scatterpolar"
                                            }
                                        ],
                                        "scatterpolargl": [
                                            {
                                                "marker": {
                                                    "colorbar": {
                                                        "outlinewidth": 0,
                                                        "ticks": ""
                                                    }
                                                },
                                                "type": "scatterpolargl"
                                            }
                                        ],
                                        "scatterternary": [
                                            {
                                                "marker": {
                                                    "colorbar": {
                                                        "outlinewidth": 0,
                                                        "ticks": ""
                                                    }
                                                },
                                                "type": "scatterternary"
                                            }
                                        ],
                                        "surface": [
                                            {
                                                "colorbar": {
                                                    "outlinewidth": 0,
                                                    "ticks": ""
                                                },
                                                "colorscale": [
                                                    [
                                                        0,
                                                        "#0d0887"
                                                    ],
                                                    [
                                                        0.1111111111111111,
                                                        "#46039f"
                                                    ],
                                                    [
                                                        0.2222222222222222,
                                                        "#7201a8"
                                                    ],
                                                    [
                                                        0.3333333333333333,
                                                        "#9c179e"
                                                    ],
                                                    [
                                                        0.4444444444444444,
                                                        "#bd3786"
                                                    ],
                                                    [
                                                        0.5555555555555556,
                                                        "#d8576b"
                                                    ],
                                                    [
                                                        0.6666666666666666,
                                                        "#ed7953"
                                                    ],
                                                    [
                                                        0.7777777777777778,
                                                        "#fb9f3a"
                                                    ],
                                                    [
                                                        0.8888888888888888,
                                                        "#fdca26"
                                                    ],
                                                    [
                                                        1,
                                                        "#f0f921"
                                                    ]
                                                ],
                                                "type": "surface"
                                            }
                                        ],
                                        "table": [
                                            {
                                                "cells": {
                                                    "fill": {
                                                        "color": "#EBF0F8"
                                                    },
                                                    "line": {
                                                        "color": "white"
                                                    }
                                                },
                                                "header": {
                                                    "fill": {
                                                        "color": "#C8D4E3"
                                                    },
                                                    "line": {
                                                        "color": "white"
                                                    }
                                                },
                                                "type": "table"
                                            }
                                        ]
                                    },
                                    "layout": {
                                        "annotationdefaults": {
                                            "arrowcolor": "#2a3f5f",
                                            "arrowhead": 0,
                                            "arrowwidth": 1
                                        },
                                        "autotypenumbers": "strict",
                                        "coloraxis": {
                                            "colorbar": {
                                                "outlinewidth": 0,
                                                "ticks": ""
                                            }
                                        },
                                        "colorscale": {
                                            "diverging": [
                                                [
                                                    0,
                                                    "#8e0152"
                                                ],
                                                [
                                                    0.1,
                                                    "#c51b7d"
                                                ],
                                                [
                                                    0.2,
                                                    "#de77ae"
                                                ],
                                                [
                                                    0.3,
                                                    "#f1b6da"
                                                ],
                                                [
                                                    0.4,
                                                    "#fde0ef"
                                                ],
                                                [
                                                    0.5,
                                                    "#f7f7f7"
                                                ],
                                                [
                                                    0.6,
                                                    "#e6f5d0"
                                                ],
                                                [
                                                    0.7,
                                                    "#b8e186"
                                                ],
                                                [
                                                    0.8,
                                                    "#7fbc41"
                                                ],
                                                [
                                                    0.9,
                                                    "#4d9221"
                                                ],
                                                [
                                                    1,
                                                    "#276419"
                                                ]
                                            ],
                                            "sequential": [
                                                [
                                                    0,
                                                    "#0d0887"
                                                ],
                                                [
                                                    0.1111111111111111,
                                                    "#46039f"
                                                ],
                                                [
                                                    0.2222222222222222,
                                                    "#7201a8"
                                                ],
                                                [
                                                    0.3333333333333333,
                                                    "#9c179e"
                                                ],
                                                [
                                                    0.4444444444444444,
                                                    "#bd3786"
                                                ],
                                                [
                                                    0.5555555555555556,
                                                    "#d8576b"
                                                ],
                                                [
                                                    0.6666666666666666,
                                                    "#ed7953"
                                                ],
                                                [
                                                    0.7777777777777778,
                                                    "#fb9f3a"
                                                ],
                                                [
                                                    0.8888888888888888,
                                                    "#fdca26"
                                                ],
                                                [
                                                    1,
                                                    "#f0f921"
                                                ]
                                            ],
                                            "sequentialminus": [
                                                [
                                                    0,
                                                    "#0d0887"
                                                ],
                                                [
                                                    0.1111111111111111,
                                                    "#46039f"
                                                ],
                                                [
                                                    0.2222222222222222,
                                                    "#7201a8"
                                                ],
                                                [
                                                    0.3333333333333333,
                                                    "#9c179e"
                                                ],
                                                [
                                                    0.4444444444444444,
                                                    "#bd3786"
                                                ],
                                                [
                                                    0.5555555555555556,
                                                    "#d8576b"
                                                ],
                                                [
                                                    0.6666666666666666,
                                                    "#ed7953"
                                                ],
                                                [
                                                    0.7777777777777778,
                                                    "#fb9f3a"
                                                ],
                                                [
                                                    0.8888888888888888,
                                                    "#fdca26"
                                                ],
                                                [
                                                    1,
                                                    "#f0f921"
                                                ]
                                            ]
                                        },
                                        "colorway": [
                                            "#636efa",
                                            "#EF553B",
                                            "#00cc96",
                                            "#ab63fa",
                                            "#FFA15A",
                                            "#19d3f3",
                                            "#FF6692",
                                            "#B6E880",
                                            "#FF97FF",
                                            "#FECB52"
                                        ],
                                        "font": {
                                            "color": "#2a3f5f"
                                        },
                                        "geo": {
                                            "bgcolor": "white",
                                            "lakecolor": "white",
                                            "landcolor": "#E5ECF6",
                                            "showlakes": true,
                                            "showland": true,
                                            "subunitcolor": "white"
                                        },
                                        "hoverlabel": {
                                            "align": "left"
                                        },
                                        "hovermode": "closest",
                                        "mapbox": {
                                            "style": "light"
                                        },
                                        "paper_bgcolor": "white",
                                        "plot_bgcolor": "#E5ECF6",
                                        "polar": {
                                            "angularaxis": {
                                                "gridcolor": "white",
                                                "linecolor": "white",
                                                "ticks": ""
                                            },
                                            "bgcolor": "#E5ECF6",
                                            "radialaxis": {
                                                "gridcolor": "white",
                                                "linecolor": "white",
                                                "ticks": ""
                                            }
                                        },
                                        "scene": {
                                            "xaxis": {
                                                "backgroundcolor": "#E5ECF6",
                                                "gridcolor": "white",
                                                "gridwidth": 2,
                                                "linecolor": "white",
                                                "showbackground": true,
                                                "ticks": "",
                                                "zerolinecolor": "white"
                                            },
                                            "yaxis": {
                                                "backgroundcolor": "#E5ECF6",
                                                "gridcolor": "white",
                                                "gridwidth": 2,
                                                "linecolor": "white",
                                                "showbackground": true,
                                                "ticks": "",
                                                "zerolinecolor": "white"
                                            },
                                            "zaxis": {
                                                "backgroundcolor": "#E5ECF6",
                                                "gridcolor": "white",
                                                "gridwidth": 2,
                                                "linecolor": "white",
                                                "showbackground": true,
                                                "ticks": "",
                                                "zerolinecolor": "white"
                                            }
                                        },
                                        "shapedefaults": {
                                            "line": {
                                                "color": "#2a3f5f"
                                            }
                                        },
                                        "ternary": {
                                            "aaxis": {
                                                "gridcolor": "white",
                                                "linecolor": "white",
                                                "ticks": ""
                                            },
                                            "baxis": {
                                                "gridcolor": "white",
                                                "linecolor": "white",
                                                "ticks": ""
                                            },
                                            "bgcolor": "#E5ECF6",
                                            "caxis": {
                                                "gridcolor": "white",
                                                "linecolor": "white",
                                                "ticks": ""
                                            }
                                        },
                                        "title": {
                                            "x": 0.05
                                        },
                                        "xaxis": {
                                            "automargin": true,
                                            "gridcolor": "white",
                                            "linecolor": "white",
                                            "ticks": "",
                                            "title": {
                                                "standoff": 15
                                            },
                                            "zerolinecolor": "white",
                                            "zerolinewidth": 2
                                        },
                                        "yaxis": {
                                            "automargin": true,
                                            "gridcolor": "white",
                                            "linecolor": "white",
                                            "ticks": "",
                                            "title": {
                                                "standoff": 15
                                            },
                                            "zerolinecolor": "white",
                                            "zerolinewidth": 2
                                        }
                                    }
                                },
                                "width": 1100
                            }
                        }
                    },
                    "metadata": {},
                    "output_type": "display_data"
                }
            ],
            "source": [
                "fig = px.scatter_map(\n",
                "    gdf,\n",
                "    lat=\"latitude_jittered\",\n",
                "    lon=\"longitude_jittered\",\n",
                "    hover_name=\"Name\",\n",
                "    hover_data=[\"Organization\"],\n",
                "    color=\"Projects\",\n",
                "    zoom=1,\n",
                "    height=600,\n",
                "    opacity=0.9,\n",
                "    width=1100,\n",
                ")\n",
                "\n",
                "fig.update_layout(mapbox_style=\"carto-positron\")\n",
                "fig.update_layout(margin={\"r\": 0, \"t\": 0, \"l\": 0, \"b\": 0})\n",
                "# change the size of the points\n",
                "fig.update_traces(marker=dict(size=15))\n",
                "fig.show()\n",
                "# save the plot\n",
                "pathlib.Path(\"../maps\").mkdir(parents=True, exist_ok=True)\n",
                "fig.write_html(\"../maps/collaborator_locations.html\")"
            ]
        },
        {
            "cell_type": "code",
            "execution_count": null,
            "metadata": {},
            "outputs": [],
            "source": []
        }
    ],
    "metadata": {
        "kernelspec": {
            "display_name": "mapping_env",
            "language": "python",
            "name": "python3"
        },
        "language_info": {
            "codemirror_mode": {
                "name": "ipython",
                "version": 3
            },
            "file_extension": ".py",
            "mimetype": "text/x-python",
            "name": "python",
            "nbconvert_exporter": "python",
            "pygments_lexer": "ipython3",
            "version": "3.12.9"
        }
    },
    "nbformat": 4,
    "nbformat_minor": 2
}
